{
 "cells": [
  {
   "cell_type": "markdown",
   "metadata": {},
   "source": [
    "# Классификация белков на семейства по их аминокислотным последовательностям"
   ]
  },
  {
   "cell_type": "markdown",
   "metadata": {},
   "source": [
    "Используемые данные:\n",
    "\n",
    "- pdb_data_seq.csv и pdb_data_no_dups.csv: https://www.kaggle.com/shahir/protein-data-set  \n",
    "    (Датасет собран с RCSB PDB. Используется лишь как тренировочный набор данных)\n",
    "- ly6upar.csv: известные и подтвержденные трехпетельные белки. Собран из данных Михаила Мышкина и всех результатов поиска на ncbi proteins по запросу Ly6/uPAR (https://www.ncbi.nlm.nih.gov/protein/?term=ly6%2Fupar)\n",
    "- arubens_seq.csv и aplanci_seq.csv: протеом, полученный от Михаила Мышкина. Таргетный набор данных\n",
    "\n",
    "модель взята здесь: https://www.kaggle.com/abharg16/predicting-protein-classification"
   ]
  },
  {
   "cell_type": "markdown",
   "metadata": {},
   "source": [
    "### 1) Импорт библиотек и данных"
   ]
  },
  {
   "cell_type": "code",
   "execution_count": 1,
   "metadata": {
    "_cell_guid": "79c7e3d0-c299-4dcb-8224-4455121ee9b0",
    "_uuid": "d629ff2d2480ee46fbb7e2d37f6b5fab8052498a"
   },
   "outputs": [],
   "source": [
    "import os\n",
    "import pandas as pd\n",
    "import numpy as np\n",
    "from matplotlib import pyplot as plt\n",
    "import seaborn as sns\n",
    "from sklearn.feature_extraction.text import CountVectorizer\n",
    "from sklearn.model_selection import train_test_split, KFold\n",
    "from sklearn.metrics import accuracy_score, confusion_matrix, classification_report,\\\n",
    "precision_recall_fscore_support, log_loss, roc_curve\n",
    "\n",
    "from sklearn.pipeline import Pipeline\n",
    "from sklearn.model_selection import cross_val_score\n",
    "from sklearn.preprocessing import label_binarize\n",
    "# from math import e as expon\n",
    "import sklearn.metrics as metrics\n",
    "\n",
    "# Все функции, которые писал для предобработки\n",
    "from Utilities import *\n",
    "\n",
    "from sklearn.naive_bayes import MultinomialNB\n",
    "from sklearn.svm import SVC, LinearSVC\n",
    "from sklearn.linear_model import LogisticRegression, SGDClassifier\n",
    "\n",
    "model_f = pd.read_csv('input/cl_input.csv', index_col=0)  # обработанный датасет из pdb\n",
    "df_aru = pd.read_csv('input/arubens_seq.csv', index_col=0)  # протеом A. rubens\n",
    "df_apl = pd.read_csv('input/aplanci_seq.csv', index_col=0)  # протеом A. planci\n",
    "df_ly6 = pd.read_csv('input/ly6upar.csv', index_col=0)  # известные трехпетельные белки\n",
    "df_ly6['classification'] = 'Ly6/uPAR' # дополнительный столбец под нужды модели"
   ]
  },
  {
   "cell_type": "code",
   "execution_count": 2,
   "metadata": {
    "scrolled": true
   },
   "outputs": [
    {
     "data": {
      "text/html": [
       "<div>\n",
       "<style scoped>\n",
       "    .dataframe tbody tr th:only-of-type {\n",
       "        vertical-align: middle;\n",
       "    }\n",
       "\n",
       "    .dataframe tbody tr th {\n",
       "        vertical-align: top;\n",
       "    }\n",
       "\n",
       "    .dataframe thead th {\n",
       "        text-align: right;\n",
       "    }\n",
       "</style>\n",
       "<table border=\"1\" class=\"dataframe\">\n",
       "  <thead>\n",
       "    <tr style=\"text-align: right;\">\n",
       "      <th></th>\n",
       "      <th>classification</th>\n",
       "      <th>sequence</th>\n",
       "    </tr>\n",
       "    <tr>\n",
       "      <th>structureId</th>\n",
       "      <th></th>\n",
       "      <th></th>\n",
       "    </tr>\n",
       "  </thead>\n",
       "  <tbody>\n",
       "    <tr>\n",
       "      <th>101M</th>\n",
       "      <td>OXYGEN TRANSPORT</td>\n",
       "      <td>MVLSEGEWQLVLHVWAKVEADVAGHGQDILIRLFKSHPETLEKFDR...</td>\n",
       "    </tr>\n",
       "    <tr>\n",
       "      <th>102L</th>\n",
       "      <td>HYDROLASE(O-GLYCOSYL)</td>\n",
       "      <td>MNIFEMLRIDEGLRLKIYKDTEGYYTIGIGHLLTKSPSLNAAAKSE...</td>\n",
       "    </tr>\n",
       "    <tr>\n",
       "      <th>102M</th>\n",
       "      <td>OXYGEN TRANSPORT</td>\n",
       "      <td>MVLSEGEWQLVLHVWAKVEADVAGHGQDILIRLFKSHPETLEKFDR...</td>\n",
       "    </tr>\n",
       "    <tr>\n",
       "      <th>103L</th>\n",
       "      <td>HYDROLASE(O-GLYCOSYL)</td>\n",
       "      <td>MNIFEMLRIDEGLRLKIYKDTEGYYTIGIGHLLTKSPSLNSLDAAK...</td>\n",
       "    </tr>\n",
       "    <tr>\n",
       "      <th>104L</th>\n",
       "      <td>HYDROLASE(O-GLYCOSYL)</td>\n",
       "      <td>MNIFEMLRIDEGLRLKIYKDTEGYYTIGIGHLLTKSPSLNAAKSAA...</td>\n",
       "    </tr>\n",
       "  </tbody>\n",
       "</table>\n",
       "</div>"
      ],
      "text/plain": [
       "                    classification  \\\n",
       "structureId                          \n",
       "101M              OXYGEN TRANSPORT   \n",
       "102L         HYDROLASE(O-GLYCOSYL)   \n",
       "102M              OXYGEN TRANSPORT   \n",
       "103L         HYDROLASE(O-GLYCOSYL)   \n",
       "104L         HYDROLASE(O-GLYCOSYL)   \n",
       "\n",
       "                                                      sequence  \n",
       "structureId                                                     \n",
       "101M         MVLSEGEWQLVLHVWAKVEADVAGHGQDILIRLFKSHPETLEKFDR...  \n",
       "102L         MNIFEMLRIDEGLRLKIYKDTEGYYTIGIGHLLTKSPSLNAAAKSE...  \n",
       "102M         MVLSEGEWQLVLHVWAKVEADVAGHGQDILIRLFKSHPETLEKFDR...  \n",
       "103L         MNIFEMLRIDEGLRLKIYKDTEGYYTIGIGHLLTKSPSLNSLDAAK...  \n",
       "104L         MNIFEMLRIDEGLRLKIYKDTEGYYTIGIGHLLTKSPSLNAAKSAA...  "
      ]
     },
     "execution_count": 2,
     "metadata": {},
     "output_type": "execute_result"
    }
   ],
   "source": [
    "model_f.head()"
   ]
  },
  {
   "cell_type": "code",
   "execution_count": 3,
   "metadata": {},
   "outputs": [
    {
     "data": {
      "text/html": [
       "<div>\n",
       "<style scoped>\n",
       "    .dataframe tbody tr th:only-of-type {\n",
       "        vertical-align: middle;\n",
       "    }\n",
       "\n",
       "    .dataframe tbody tr th {\n",
       "        vertical-align: top;\n",
       "    }\n",
       "\n",
       "    .dataframe thead th {\n",
       "        text-align: right;\n",
       "    }\n",
       "</style>\n",
       "<table border=\"1\" class=\"dataframe\">\n",
       "  <thead>\n",
       "    <tr style=\"text-align: right;\">\n",
       "      <th></th>\n",
       "      <th>sequence</th>\n",
       "      <th>classification</th>\n",
       "    </tr>\n",
       "    <tr>\n",
       "      <th>genes</th>\n",
       "      <th></th>\n",
       "      <th></th>\n",
       "    </tr>\n",
       "  </thead>\n",
       "  <tbody>\n",
       "    <tr>\n",
       "      <th>PF00087|P.ariabilis</th>\n",
       "      <td>MKTLVFVVLIIVAATEIASALKCYHCGPSSKSFKDCDANGKEMDCL...</td>\n",
       "      <td>Ly6/uPAR</td>\n",
       "    </tr>\n",
       "    <tr>\n",
       "      <th>JF274292|P.shermani</th>\n",
       "      <td>MRTTALLILLVVLFSTGEALQCNTLDGGTEECIPGIYNVCVHYKSE...</td>\n",
       "      <td>Ly6/uPAR</td>\n",
       "    </tr>\n",
       "    <tr>\n",
       "      <th>Lynx2|N.lugens</th>\n",
       "      <td>MERAKLSFSWVIACSLLVVLCFVVHKGSSIRCYQCNSEYDPTCGDP...</td>\n",
       "      <td>Ly6/uPAR</td>\n",
       "    </tr>\n",
       "    <tr>\n",
       "      <th>PSCA|G.gallus</th>\n",
       "      <td>MKVFFILLLAAILCTDPGSSLQCYSCKTKLSNSNCQATMNCKENEM...</td>\n",
       "      <td>Ly6/uPAR</td>\n",
       "    </tr>\n",
       "    <tr>\n",
       "      <th>ACVR1|H.sapiens</th>\n",
       "      <td>MVDGVMILPVLIMIALPSPSMEDEKPKVNPKLYMCVCEGLSCGNED...</td>\n",
       "      <td>Ly6/uPAR</td>\n",
       "    </tr>\n",
       "  </tbody>\n",
       "</table>\n",
       "</div>"
      ],
      "text/plain": [
       "                                                              sequence  \\\n",
       "genes                                                                    \n",
       "PF00087|P.ariabilis  MKTLVFVVLIIVAATEIASALKCYHCGPSSKSFKDCDANGKEMDCL...   \n",
       "JF274292|P.shermani  MRTTALLILLVVLFSTGEALQCNTLDGGTEECIPGIYNVCVHYKSE...   \n",
       "Lynx2|N.lugens       MERAKLSFSWVIACSLLVVLCFVVHKGSSIRCYQCNSEYDPTCGDP...   \n",
       "PSCA|G.gallus        MKVFFILLLAAILCTDPGSSLQCYSCKTKLSNSNCQATMNCKENEM...   \n",
       "ACVR1|H.sapiens      MVDGVMILPVLIMIALPSPSMEDEKPKVNPKLYMCVCEGLSCGNED...   \n",
       "\n",
       "                    classification  \n",
       "genes                               \n",
       "PF00087|P.ariabilis       Ly6/uPAR  \n",
       "JF274292|P.shermani       Ly6/uPAR  \n",
       "Lynx2|N.lugens            Ly6/uPAR  \n",
       "PSCA|G.gallus             Ly6/uPAR  \n",
       "ACVR1|H.sapiens           Ly6/uPAR  "
      ]
     },
     "execution_count": 3,
     "metadata": {},
     "output_type": "execute_result"
    }
   ],
   "source": [
    "df_ly6.head()"
   ]
  },
  {
   "cell_type": "raw",
   "metadata": {},
   "source": [
    "pd.options.display.max_rows=1200"
   ]
  },
  {
   "cell_type": "markdown",
   "metadata": {},
   "source": [
    "### Предпроцессинг"
   ]
  },
  {
   "cell_type": "code",
   "execution_count": 4,
   "metadata": {},
   "outputs": [
    {
     "name": "stdout",
     "output_type": "stream",
     "text": [
      "(66,)\n"
     ]
    },
    {
     "data": {
      "image/png": "[encoded data removed]",
      "text/plain": [
       "<Figure size 720x720 with 1 Axes>"
      ]
     },
     "metadata": {
      "needs_background": "light"
     },
     "output_type": "display_data"
    }
   ],
   "source": [
    "cou = model_f.classification.value_counts()\n",
    "cou = cou[(cou > 100)]\n",
    "print(cou.shape)  # Количество семейств белков, представленных в большем, чем 100 экземплярах\n",
    "\n",
    "# Рисуем распределение\n",
    "fig , ax = plt.subplots()\n",
    "fig.set_size_inches(10, 10)\n",
    "g = sns.barplot(x=cou.index, y=cou)\n",
    "g.set_xticklabels(cou.index, rotation=-90)\n",
    "plt.title('Расчет распределения для семейств из pdb')\n",
    "plt.ylabel('number of records')\n",
    "plt.tight_layout()\n",
    "plt.show()"
   ]
  },
  {
   "cell_type": "code",
   "execution_count": 5,
   "metadata": {},
   "outputs": [],
   "source": [
    "# Нормируем количество всех pdb белков на количество трехпетельных\n",
    "x = df_ly6.shape[0] / cou.sum()  # нормировочный коэффицент\n",
    "cou = (cou * x).apply(lambda x: round(x) + 1)  # Нормируем и округляем в большую сторону\n",
    "\n",
    "# Используя написанную функцию, вытаскиваем из большого датасета количество белков\n",
    "# по семействам (числа рассчитаны выше)\n",
    "df_test = pd.DataFrame()\n",
    "for i, j in zip(cou, cou.index):\n",
    "    df_test = pd.concat([df_test, find_proteins(model_f, j, i, 3)])  \n",
    "\n",
    "X_train, X_test, y_train, y_test = train_test(df_test, df_ly6)  # функция из utilities\n",
    "y_train = label_binarize(y_train, classes=['NORES', 'Ly6/uPAR']).reshape(y_train.shape[0])\n",
    "y_test = label_binarize(y_test, classes=['NORES', 'Ly6/uPAR']).reshape(y_test.shape[0])"
   ]
  },
  {
   "cell_type": "code",
   "execution_count": 6,
   "metadata": {},
   "outputs": [
    {
     "data": {
      "text/plain": [
       "227"
      ]
     },
     "execution_count": 6,
     "metadata": {},
     "output_type": "execute_result"
    }
   ],
   "source": [
    "# Проверяем правильность конкатенации (всего 227 трехпетельных белков)\n",
    "X_train.shape[0] + X_test.shape[0] - df_test.shape[0]"
   ]
  },
  {
   "cell_type": "markdown",
   "metadata": {},
   "source": [
    "### Исследование моделей"
   ]
  },
  {
   "cell_type": "code",
   "execution_count": 7,
   "metadata": {},
   "outputs": [
    {
     "name": "stdout",
     "output_type": "stream",
     "text": [
      "random precison =  0.2154255319148936\n",
      "random recall =  0.2154255319148936\n",
      "random f1 score =  0.2154255319148936\n"
     ]
    }
   ],
   "source": [
    "# Тест по случайным величинам\n",
    "precision_r, recall_r, f1_score_r, res = [], [], [], y_test.copy()\n",
    "\n",
    "for i in range(100):\n",
    "    np.random.shuffle(res)\n",
    "    tmp = precision_recall_fscore_support(y_pred=res, y_true=y_test, labels=[1])\n",
    "    precision_r += [tmp[0][0]]\n",
    "    recall_r += [tmp[1][0]]\n",
    "    f1_score_r += [tmp[2][0]]\n",
    "\n",
    "print('random precison = ', np.mean(precision_r))\n",
    "print('random recall = ', np.mean(recall_r))\n",
    "print('random f1 score = ', np.mean(f1_score_r))"
   ]
  },
  {
   "cell_type": "code",
   "execution_count": 8,
   "metadata": {
    "scrolled": true
   },
   "outputs": [
    {
     "name": "stdout",
     "output_type": "stream",
     "text": [
      "2 2\n",
      "accuracy SVC =  0.9618834080717489\n",
      "accuracy NB =  0.9147982062780269\n",
      "logistic Loss for SVC 1.316511202462025\n",
      "logistic Loss for NB 2.9428087294729397\n",
      "2 3\n",
      "accuracy SVC =  0.9775784753363229\n",
      "accuracy NB =  0.9304932735426009\n",
      "logistic Loss for SVC 0.7744156124304207\n",
      "logistic Loss for NB 2.4007059681639342\n",
      "2 4\n",
      "accuracy SVC =  0.9753363228699552\n",
      "accuracy NB =  0.9417040358744395\n",
      "logistic Loss for SVC 0.8518568151095927\n",
      "logistic Loss for NB 2.0134766481165216\n",
      "2 5\n",
      "accuracy SVC =  0.9775784753363229\n",
      "accuracy NB =  0.9035874439461884\n",
      "logistic Loss for SVC 0.7744156124304207\n",
      "logistic Loss for NB 3.3299753008430946\n",
      "2 6\n",
      "accuracy SVC =  0.9730941704035875\n",
      "accuracy NB =  0.8946188340807175\n",
      "logistic Loss for SVC 0.9292980177887645\n",
      "logistic Loss for NB 3.639738318740432\n",
      "2 7\n",
      "accuracy SVC =  0.9708520179372198\n",
      "accuracy NB =  0.8878923766816144\n",
      "logistic Loss for SVC 1.0067392204679364\n",
      "logistic Loss for NB 3.8720619267779477\n",
      "2 8\n",
      "accuracy SVC =  0.9596412556053812\n",
      "accuracy NB =  0.8878923766816144\n",
      "logistic Loss for SVC 1.393943441044446\n",
      "logistic Loss for NB 3.8720619267779477\n",
      "2 9\n",
      "accuracy SVC =  0.9596412556053812\n",
      "accuracy NB =  0.8901345291479821\n",
      "logistic Loss for SVC 1.393943441044446\n",
      "logistic Loss for NB 3.794620724098776\n",
      "2 10\n",
      "accuracy SVC =  0.9573991031390134\n",
      "accuracy NB =  0.8901345291479821\n",
      "logistic Loss for SVC 1.4713846437236178\n",
      "logistic Loss for NB 3.794620724098776\n",
      "2 11\n",
      "accuracy SVC =  0.9573991031390134\n",
      "accuracy NB =  0.8878923766816144\n",
      "logistic Loss for SVC 1.4713846437236178\n",
      "logistic Loss for NB 3.8720619267779477\n",
      "2 12\n",
      "accuracy SVC =  0.9551569506726457\n",
      "accuracy NB =  0.8901345291479821\n",
      "logistic Loss for SVC 1.5488258464027898\n",
      "logistic Loss for NB 3.794620724098776\n",
      "3 3\n",
      "accuracy SVC =  0.9641255605381166\n",
      "accuracy NB =  0.9394618834080718\n",
      "logistic Loss for SVC 1.2390628285054524\n",
      "logistic Loss for NB 2.090939364627896\n",
      "3 4\n",
      "accuracy SVC =  0.9506726457399103\n",
      "accuracy NB =  0.9417040358744395\n",
      "logistic Loss for SVC 1.703708251761134\n",
      "logistic Loss for NB 2.013480233755222\n",
      "3 5\n",
      "accuracy SVC =  0.9349775784753364\n",
      "accuracy NB =  0.9260089686098655\n",
      "logistic Loss for SVC 2.245796670515337\n",
      "logistic Loss for NB 2.555563274051375\n",
      "3 6\n",
      "accuracy SVC =  0.9147982062780269\n",
      "accuracy NB =  0.9192825112107623\n",
      "logistic Loss for SVC 2.9427674946278843\n",
      "logistic Loss for NB 2.7878868820888907\n",
      "3 7\n",
      "accuracy SVC =  0.9035874439461884\n",
      "accuracy NB =  0.9147982062780269\n",
      "logistic Loss for SVC 3.3299735080237443\n",
      "logistic Loss for NB 2.9427692874472346\n",
      "3 8\n",
      "accuracy SVC =  0.8946188340807175\n",
      "accuracy NB =  0.9125560538116592\n",
      "logistic Loss for SVC 3.639738318740432\n",
      "logistic Loss for NB 3.020210490126406\n",
      "3 9\n",
      "accuracy SVC =  0.8923766816143498\n",
      "accuracy NB =  0.9103139013452914\n",
      "logistic Loss for SVC 3.717179521419604\n",
      "logistic Loss for NB 3.0976516928055786\n",
      "3 10\n",
      "accuracy SVC =  0.8878923766816144\n",
      "accuracy NB =  0.9103139013452914\n",
      "logistic Loss for SVC 3.8720619267779477\n",
      "logistic Loss for NB 3.0976516928055786\n",
      "3 11\n",
      "accuracy SVC =  0.8878923766816144\n",
      "accuracy NB =  0.9103139013452914\n",
      "logistic Loss for SVC 3.8720601339585974\n",
      "logistic Loss for NB 3.0976516928055786\n",
      "3 12\n",
      "accuracy SVC =  0.8878923766816144\n",
      "accuracy NB =  0.9125560538116592\n",
      "logistic Loss for SVC 3.8720601339585974\n",
      "logistic Loss for NB 3.0202086973070568\n",
      "4 4\n",
      "accuracy SVC =  0.8834080717488789\n",
      "accuracy NB =  0.9573991031390134\n",
      "logistic Loss for SVC 4.026944332136291\n",
      "logistic Loss for NB 1.4714079503751705\n",
      "4 5\n",
      "accuracy SVC =  0.8834080717488789\n",
      "accuracy NB =  0.9641255605381166\n",
      "logistic Loss for SVC 4.026942539316941\n",
      "logistic Loss for NB 1.2390699997828531\n",
      "4 6\n",
      "accuracy SVC =  0.8811659192825112\n",
      "accuracy NB =  0.968609865470852\n",
      "logistic Loss for SVC 4.104383741996113\n",
      "logistic Loss for NB 1.0841840087858088\n",
      "4 7\n",
      "accuracy SVC =  0.8721973094170403\n",
      "accuracy NB =  0.9663677130044843\n",
      "logistic Loss for SVC 4.414148552712801\n",
      "logistic Loss for NB 1.1616234186456305\n",
      "4 8\n",
      "accuracy SVC =  0.8721973094170403\n",
      "accuracy NB =  0.9663677130044843\n",
      "logistic Loss for SVC 4.414148552712801\n",
      "logistic Loss for NB 1.1616234186456305\n",
      "4 9\n",
      "accuracy SVC =  0.8721973094170403\n",
      "accuracy NB =  0.9663677130044843\n",
      "logistic Loss for SVC 4.414148552712801\n",
      "logistic Loss for NB 1.1616234186456305\n",
      "4 10\n",
      "accuracy SVC =  0.8721973094170403\n",
      "accuracy NB =  0.9663677130044843\n",
      "logistic Loss for SVC 4.414148552712801\n",
      "logistic Loss for NB 1.1616234186456305\n",
      "4 11\n",
      "accuracy SVC =  0.8699551569506726\n",
      "accuracy NB =  0.9663677130044843\n",
      "logistic Loss for SVC 4.491589755391972\n",
      "logistic Loss for NB 1.1616234186456305\n",
      "4 12\n",
      "accuracy SVC =  0.8699551569506726\n",
      "accuracy NB =  0.9663677130044843\n",
      "logistic Loss for SVC 4.491589755391972\n",
      "logistic Loss for NB 1.1616234186456305\n",
      "5 5\n",
      "accuracy SVC =  0.8699551569506726\n",
      "accuracy NB =  0.9394618834080718\n",
      "logistic Loss for SVC 4.491589755391973\n",
      "logistic Loss for NB 2.0909537071826976\n",
      "5 6\n",
      "accuracy SVC =  0.8699551569506726\n",
      "accuracy NB =  0.9439461883408071\n",
      "logistic Loss for SVC 4.491589755391973\n",
      "logistic Loss for NB 1.9360659233663033\n",
      "5 7\n",
      "accuracy SVC =  0.8677130044843049\n",
      "accuracy NB =  0.9461883408071748\n",
      "logistic Loss for SVC 4.569030958071145\n",
      "logistic Loss for NB 1.8586229278677813\n",
      "5 8\n",
      "accuracy SVC =  0.8677130044843049\n",
      "accuracy NB =  0.9461883408071748\n",
      "logistic Loss for SVC 4.569030958071145\n",
      "logistic Loss for NB 1.8586229278677813\n",
      "5 9\n",
      "accuracy SVC =  0.8677130044843049\n",
      "accuracy NB =  0.9461883408071748\n",
      "logistic Loss for SVC 4.569030958071145\n",
      "logistic Loss for NB 1.8586229278677813\n",
      "5 10\n",
      "accuracy SVC =  0.8654708520179372\n",
      "accuracy NB =  0.9461883408071748\n",
      "logistic Loss for SVC 4.646472160750317\n",
      "logistic Loss for NB 1.8586229278677813\n",
      "5 11\n",
      "accuracy SVC =  0.8632286995515696\n",
      "accuracy NB =  0.9461883408071748\n",
      "logistic Loss for SVC 4.72391336342949\n",
      "logistic Loss for NB 1.8586229278677813\n",
      "5 12\n",
      "accuracy SVC =  0.8587443946188341\n",
      "accuracy NB =  0.9461883408071748\n",
      "logistic Loss for SVC 4.878795768787833\n",
      "logistic Loss for NB 1.8586229278677813\n",
      "6 6\n",
      "accuracy SVC =  0.8677130044843049\n",
      "accuracy NB =  0.9394618834080718\n",
      "logistic Loss for SVC 4.569030958071145\n",
      "logistic Loss for NB 2.0909232292537445\n",
      "6 7\n",
      "accuracy SVC =  0.8654708520179372\n",
      "accuracy NB =  0.9372197309417041\n",
      "logistic Loss for SVC 4.646472160750317\n",
      "logistic Loss for NB 2.1683662247522664\n",
      "6 8\n",
      "accuracy SVC =  0.8632286995515696\n",
      "accuracy NB =  0.9372197309417041\n",
      "logistic Loss for SVC 4.72391336342949\n",
      "logistic Loss for NB 2.1683662247522664\n",
      "6 9\n",
      "accuracy SVC =  0.8587443946188341\n",
      "accuracy NB =  0.9372197309417041\n",
      "logistic Loss for SVC 4.878795768787833\n",
      "logistic Loss for NB 2.1683662247522664\n",
      "6 10\n",
      "accuracy SVC =  0.8565022421524664\n",
      "accuracy NB =  0.9372197309417041\n",
      "logistic Loss for SVC 4.956236971467005\n",
      "logistic Loss for NB 2.1683662247522664\n",
      "6 11\n",
      "accuracy SVC =  0.8565022421524664\n",
      "accuracy NB =  0.9372197309417041\n",
      "logistic Loss for SVC 4.956236971467005\n",
      "logistic Loss for NB 2.1683662247522664\n",
      "6 12\n",
      "accuracy SVC =  0.852017937219731\n",
      "accuracy NB =  0.9372197309417041\n",
      "logistic Loss for SVC 5.111119376825349\n",
      "logistic Loss for NB 2.1683662247522664\n",
      "7 7\n",
      "accuracy SVC =  0.8587443946188341\n",
      "accuracy NB =  0.9372197309417041\n",
      "logistic Loss for SVC 4.878795768787833\n",
      "logistic Loss for NB 2.168355467836165\n",
      "7 8\n",
      "accuracy SVC =  0.8565022421524664\n",
      "accuracy NB =  0.9372197309417041\n",
      "logistic Loss for SVC 4.956236971467005\n",
      "logistic Loss for NB 2.168355467836165\n",
      "7 9\n",
      "accuracy SVC =  0.8565022421524664\n",
      "accuracy NB =  0.9372197309417041\n",
      "logistic Loss for SVC 4.956236971467005\n",
      "logistic Loss for NB 2.168355467836165\n",
      "7 10\n",
      "accuracy SVC =  0.8542600896860987\n",
      "accuracy NB =  0.9372197309417041\n",
      "logistic Loss for SVC 5.033678174146177\n",
      "logistic Loss for NB 2.168355467836165\n",
      "7 11\n",
      "accuracy SVC =  0.8497757847533632\n",
      "accuracy NB =  0.9372197309417041\n",
      "logistic Loss for SVC 5.188560579504521\n",
      "logistic Loss for NB 2.168355467836165\n",
      "7 12\n",
      "accuracy SVC =  0.8497757847533632\n",
      "accuracy NB =  0.9372197309417041\n",
      "logistic Loss for SVC 5.188560579504521\n",
      "logistic Loss for NB 2.168355467836165\n",
      "8 8\n",
      "accuracy SVC =  0.852017937219731\n",
      "accuracy NB =  0.9147982062780269\n",
      "logistic Loss for SVC 5.111119376825349\n",
      "logistic Loss for NB 2.9427674946278843\n",
      "8 9\n",
      "accuracy SVC =  0.8497757847533632\n",
      "accuracy NB =  0.9147982062780269\n",
      "logistic Loss for SVC 5.188560579504521\n",
      "logistic Loss for NB 2.9427674946278843\n",
      "8 10\n",
      "accuracy SVC =  0.8497757847533632\n",
      "accuracy NB =  0.9147982062780269\n",
      "logistic Loss for SVC 5.188560579504521\n",
      "logistic Loss for NB 2.9427674946278843\n"
     ]
    },
    {
     "name": "stdout",
     "output_type": "stream",
     "text": [
      "8 11\n",
      "accuracy SVC =  0.8497757847533632\n",
      "accuracy NB =  0.9147982062780269\n",
      "logistic Loss for SVC 5.188560579504521\n",
      "logistic Loss for NB 2.9427674946278843\n",
      "8 12\n",
      "accuracy SVC =  0.8497757847533632\n",
      "accuracy NB =  0.9147982062780269\n",
      "logistic Loss for SVC 5.188560579504521\n",
      "logistic Loss for NB 2.9427674946278843\n",
      "9 9\n",
      "accuracy SVC =  0.8497757847533632\n",
      "accuracy NB =  0.905829596412556\n",
      "logistic Loss for SVC 5.188560579504521\n",
      "logistic Loss for NB 3.2525323053445723\n",
      "9 10\n",
      "accuracy SVC =  0.8497757847533632\n",
      "accuracy NB =  0.905829596412556\n",
      "logistic Loss for SVC 5.188560579504521\n",
      "logistic Loss for NB 3.2525323053445723\n",
      "9 11\n",
      "accuracy SVC =  0.8475336322869955\n",
      "accuracy NB =  0.905829596412556\n",
      "logistic Loss for SVC 5.266001782183692\n",
      "logistic Loss for NB 3.2525323053445723\n",
      "9 12\n",
      "accuracy SVC =  0.8475336322869955\n",
      "accuracy NB =  0.905829596412556\n",
      "logistic Loss for SVC 5.266001782183692\n",
      "logistic Loss for NB 3.2525323053445723\n",
      "10 10\n",
      "accuracy SVC =  0.8497757847533632\n",
      "accuracy NB =  0.9035874439461884\n",
      "logistic Loss for SVC 5.188560579504521\n",
      "logistic Loss for NB 3.329971715204394\n",
      "10 11\n",
      "accuracy SVC =  0.8475336322869955\n",
      "accuracy NB =  0.9035874439461884\n",
      "logistic Loss for SVC 5.266001782183692\n",
      "logistic Loss for NB 3.329971715204394\n",
      "10 12\n",
      "accuracy SVC =  0.8475336322869955\n",
      "accuracy NB =  0.9035874439461884\n",
      "logistic Loss for SVC 5.266001782183692\n",
      "logistic Loss for NB 3.329971715204394\n",
      "11 11\n",
      "accuracy SVC =  0.8475336322869955\n",
      "accuracy NB =  0.899103139013453\n",
      "logistic Loss for SVC 5.266001782183692\n",
      "logistic Loss for NB 3.484854120562738\n",
      "11 12\n",
      "accuracy SVC =  0.8475336322869955\n",
      "accuracy NB =  0.899103139013453\n",
      "logistic Loss for SVC 5.266001782183692\n",
      "logistic Loss for NB 3.484854120562738\n",
      "12 12\n",
      "accuracy SVC =  0.8475336322869955\n",
      "accuracy NB =  0.8923766816143498\n",
      "logistic Loss for SVC 5.266001782183692\n",
      "logistic Loss for NB 3.7171777286002534\n"
     ]
    }
   ],
   "source": [
    "# GridSearch по значениям nram для векторизатора\n",
    "\n",
    "precision_SVC, recall_SVC, accuracy_SVC, f1_score_SVC, indexes_SVC = [], [], [], [], []\n",
    "precision_NB, recall_NB, accuracy_NB, f1_score_NB, indexes_NB = [], [], [], [], []\n",
    "\n",
    "log_loss_SVC, log_loss_NB = [], []\n",
    "\n",
    "for i in range(2, 13):\n",
    "    for j in range(i, 13):\n",
    "\n",
    "        SVC_pipeline = Pipeline(steps=[\n",
    "            ('tokenizer', CountVectorizer(analyzer = 'char_wb', ngram_range = (i, j))),\n",
    "            ('model', LinearSVC(max_iter=100000, random_state=1, class_weight='balanced'))\n",
    "            ])\n",
    "        NB_pipeline = Pipeline(steps=[\n",
    "            ('tokenizer', CountVectorizer(analyzer = 'char_wb', ngram_range = (i, j))),\n",
    "            ('model', MultinomialNB())\n",
    "            ])\n",
    "\n",
    "\n",
    "        SVC_pipeline.fit(X_train, y_train)\n",
    "        NB_pipeline.fit(X_train, y_train)\n",
    "\n",
    "        SVC_pred = SVC_pipeline.predict(X_test)\n",
    "        NB_pred = NB_pipeline.predict(X_test)\n",
    "\n",
    "        accr_SVC = accuracy_score(SVC_pred, y_test)\n",
    "        accr_NB = accuracy_score(NB_pred, y_test)\n",
    "        \n",
    "        f1_SVC = precision_recall_fscore_support(y_pred=SVC_pred, y_true=y_test, labels=[1])\n",
    "        f1_NB = precision_recall_fscore_support(y_pred=NB_pred, y_true=y_test, labels=[1])\n",
    "        \n",
    "        loss_SVC = log_loss(y_pred=SVC_pred, y_true=y_test)\n",
    "        loss_NB = log_loss(y_pred=NB_pred, y_true=y_test)\n",
    "\n",
    "        print(i, j)\n",
    "        print('accuracy SVC = ', accr_SVC)\n",
    "        print('accuracy NB = ', accr_NB)\n",
    "#         print(f\"precison = {f1[0][0]}\\nrecall = {f1[1][0]}\\n\")\n",
    "        print('logistic Loss for SVC', loss_SVC)\n",
    "        print('logistic Loss for NB', loss_NB)\n",
    "        \n",
    "        precision_SVC.append(f1_SVC[0][0]), recall_SVC.append(f1_SVC[1][0]), f1_score_SVC.append(f1_SVC[2][0])        \n",
    "        accuracy_SVC.append(accr_SVC), indexes_SVC.append((i, j)), log_loss_SVC.append(loss_SVC)\n",
    "        \n",
    "        precision_NB.append(f1_NB[0][0]), recall_NB.append(f1_NB[1][0]), f1_score_NB.append(f1_NB[2][0])        \n",
    "        accuracy_NB.append(accr_NB), indexes_NB.append((i, j)), log_loss_NB.append(loss_NB)\n"
   ]
  },
  {
   "cell_type": "code",
   "execution_count": 9,
   "metadata": {},
   "outputs": [
    {
     "data": {
      "image/png": "[encoded data removed]",
      "text/plain": [
       "<Figure size 1800x360 with 5 Axes>"
      ]
     },
     "metadata": {
      "needs_background": "light"
     },
     "output_type": "display_data"
    }
   ],
   "source": [
    "# Графики метрик для моделей по ngram парметру\n",
    "\n",
    "fig, ax = plt.subplots(1, 5, figsize=(25, 5), tight_layout=True)\n",
    "\n",
    "metrs = [accuracy_NB, f1_score_NB, precision_NB, recall_NB, log_loss_NB,\n",
    "         accuracy_SVC, f1_score_SVC, precision_SVC, recall_SVC, log_loss_SVC]\n",
    "\n",
    "labels = ['NB \\nAccuracy', 'NB \\nf1_score', 'NB \\nprecision', 'NB \\nrecall', 'NB \\nLog loss',\n",
    "          'SVC\\nAccuracy', 'SVC\\nf1_score', 'SVC\\nprecision', 'SVC\\nrecall', 'SVC\\nLog loss']\n",
    "jls = [0, 1, 2, 3, 4] * 2\n",
    "inds = [indexes_NB]*5 + [indexes_SVC]*5\n",
    "lines = ['y'] * 5 + ['r--'] * 5\n",
    "\n",
    "\n",
    "for j, y, label, index, line in zip(jls, metrs, labels, inds, lines):\n",
    "    ax_plotter(ax, j, y, label, index, line) # Функция из utilities\n",
    "\n",
    "for j in range(5):\n",
    "    ax[j].grid()\n",
    "    ax[j].legend(loc='lower right')\n",
    "\n",
    "plt.tight_layout()\n",
    "fig.savefig('NB_vs_SVC.png', facecolor='white')\n",
    "plt.show()"
   ]
  },
  {
   "cell_type": "code",
   "execution_count": 10,
   "metadata": {},
   "outputs": [
    {
     "name": "stdout",
     "output_type": "stream",
     "text": [
      "         precision    recall    accuracy    log loss    f1_score\n",
      "SVC      (3, 11)      (2, 3)      (2, 3)      (2, 3)      (2, 3)\n",
      "NB       (10, 10)      (5, 5)      (4, 6)      (4, 6)      (4, 6)\n"
     ]
    },
    {
     "data": {
      "text/plain": [
       "((2, 3), (4, 6))"
      ]
     },
     "execution_count": 10,
     "metadata": {},
     "output_type": "execute_result"
    }
   ],
   "source": [
    "# ngram параметр для лучших значений метрик\n",
    "\n",
    "print(' ' * 5, 'precision', 'recall', 'accuracy', 'log loss', 'f1_score', sep='    ')\n",
    "print('SVC', indexes_SVC[precision_SVC.index(max(precision_SVC))],\n",
    "      indexes_SVC[recall_SVC.index(max(recall_SVC))],\n",
    "      indexes_SVC[accuracy_SVC.index(max(accuracy_SVC))],\n",
    "      indexes_SVC[log_loss_SVC.index(min(log_loss_SVC))],\n",
    "      indexes_SVC[f1_score_SVC.index(max(f1_score_SVC))], sep=' ' * 6\n",
    "     )\n",
    "print('NB ', indexes_NB[precision_NB.index(max(precision_NB))],\n",
    "      indexes_NB[recall_NB.index(max(recall_NB))],\n",
    "      indexes_NB[accuracy_NB.index(max(accuracy_NB))],\n",
    "      indexes_NB[log_loss_NB.index(min(log_loss_NB))],\n",
    "      indexes_NB[f1_score_NB.index(max(f1_score_NB))], sep=' ' * 6\n",
    "     )\n",
    "\n",
    "svc_i, svc_j = indexes_SVC[f1_score_SVC.index(max(f1_score_SVC))]\n",
    "NB_i, NB_j = indexes_NB[f1_score_NB.index(max(f1_score_NB))]\n",
    "(svc_i, svc_j), (NB_i, NB_j)"
   ]
  },
  {
   "cell_type": "code",
   "execution_count": 11,
   "metadata": {},
   "outputs": [
    {
     "name": "stdout",
     "output_type": "stream",
     "text": [
      "len of NB (2, 3) =  (660, 8710)\n",
      "len of SVC (4, 6) =  (660, 347090)\n"
     ]
    }
   ],
   "source": [
    "# Размер тренировочного датасета\n",
    "print(f'len of NB {(svc_i, svc_j)} = ', CountVectorizer(analyzer = 'char_wb', ngram_range = (svc_i, svc_j)).fit_transform(X_train).shape)\n",
    "print(f'len of SVC {(NB_i, NB_j)} = ', CountVectorizer(analyzer = 'char_wb', ngram_range = (NB_i, NB_j)).fit_transform(X_train).shape)"
   ]
  },
  {
   "cell_type": "code",
   "execution_count": 12,
   "metadata": {},
   "outputs": [
    {
     "data": {
      "text/plain": [
       "((660,), (446,))"
      ]
     },
     "execution_count": 12,
     "metadata": {},
     "output_type": "execute_result"
    }
   ],
   "source": [
    "X_train.shape, X_test.shape"
   ]
  },
  {
   "cell_type": "code",
   "execution_count": 13,
   "metadata": {},
   "outputs": [
    {
     "name": "stdout",
     "output_type": "stream",
     "text": [
      "accuracy =  0.9775784753363229\n",
      "precison = 0.9772727272727273\n",
      "recall = 0.9148936170212766\n",
      "\n"
     ]
    }
   ],
   "source": [
    "# Итоговая модель SVC\n",
    "# svc_i, svc_j = 3, 3\n",
    "SVC_pipeline = Pipeline(steps=[\n",
    "            ('tokenizer', CountVectorizer(analyzer = 'char_wb', ngram_range = (svc_i, svc_j))),\n",
    "            ('model', LinearSVC(max_iter=100000, random_state=1, class_weight='balanced'))\n",
    "            ])\n",
    "SVC_pipeline.fit(X_train, y_train)\n",
    "\n",
    "SVC_pred = SVC_pipeline.predict(X_test)\n",
    "accr_SVC = accuracy_score(SVC_pred, y_test)\n",
    "f1_SVC = precision_recall_fscore_support(y_pred=SVC_pred, y_true=y_test, labels=[1])\n",
    "print('accuracy = ', accr_SVC)\n",
    "print(f'precison = {f1_SVC[0][0]}\\nrecall = {f1_SVC[1][0]}\\n')# Вывод метрик отчета классификации"
   ]
  },
  {
   "cell_type": "code",
   "execution_count": 14,
   "metadata": {},
   "outputs": [
    {
     "name": "stdout",
     "output_type": "stream",
     "text": [
      "accuracy =  0.968609865470852\n",
      "precison = 0.9545454545454546\n",
      "recall = 0.8936170212765957\n",
      "\n"
     ]
    }
   ],
   "source": [
    "# Итоговая модель NB\n",
    "# NB_i, NB_j = 5, 11\n",
    "NB_pipeline = Pipeline(steps=[\n",
    "            ('tokenizer', CountVectorizer(analyzer = 'char_wb', ngram_range = (NB_i, NB_j))),\n",
    "            ('model', MultinomialNB())\n",
    "            ])\n",
    "NB_pipeline.fit(X_train, y_train)\n",
    "\n",
    "NB_pred = NB_pipeline.predict(X_test)\n",
    "accr_NB = accuracy_score(NB_pred, y_test)\n",
    "f1_NB = precision_recall_fscore_support(y_pred=NB_pred, y_true=y_test, labels=[1])\n",
    "print('accuracy = ', accr_NB)\n",
    "print(f'precison = {f1_NB[0][0]}\\nrecall = {f1_NB[1][0]}\\n')# Вывод метрик отчета классификации"
   ]
  },
  {
   "cell_type": "code",
   "execution_count": 15,
   "metadata": {},
   "outputs": [
    {
     "data": {
      "image/png": "[encoded data removed]",
      "text/plain": [
       "<Figure size 720x360 with 2 Axes>"
      ]
     },
     "metadata": {
      "needs_background": "light"
     },
     "output_type": "display_data"
    }
   ],
   "source": [
    "fig, ax = plt.subplots(1, 2, figsize=(10, 5), tight_layout=True)\n",
    "\n",
    "\n",
    "# calculate the fpr and tpr for all thresholds of the classification\n",
    "preds_SVC = SVC_pipeline.decision_function(X_test)\n",
    "preds_NB = NB_pipeline.predict_proba(X_test)[:, 1]\n",
    "\n",
    "y_true = y_test.copy()\n",
    "\n",
    "fpr_SVC, tpr_SVC, threshold_SVC = metrics.roc_curve(y_true, preds_SVC)\n",
    "roc_auc_SVC = metrics.roc_auc_score(y_true, preds_SVC, average='weighted')\n",
    "\n",
    "fpr_NB, tpr_NB, threshold_NB = metrics.roc_curve(y_true, preds_NB)\n",
    "roc_auc_NB = metrics.roc_auc_score(y_true, preds_NB, average='weighted')\n",
    "\n",
    "# Receiver Operating Characteristic\n",
    "ax[0].set_title('Receiver Operating Characteristic', size=20)\n",
    "ax[0].plot(fpr_SVC, tpr_SVC, 'r--', label = 'AUC SVC = %.5f' % roc_auc_SVC, linewidth=4)\n",
    "ax[0].plot(fpr_NB, tpr_NB, '-.y', label = 'AUC NB = %.5f' % roc_auc_NB, linewidth=4)\n",
    "ax[0].legend(loc = 'lower right')\n",
    "ax[0].plot([0, 1], [0, 1],'r--')\n",
    "ax[0].set_xlim([-0.05, 1.05])\n",
    "ax[0].set_ylim([-0.05, 1.05])\n",
    "ax[0].set_yticks(np.arange(0, 1.01, 0.05))\n",
    "ax[0].set_xticks(np.arange(0, 1.01, 0.1))\n",
    "ax[0].set_ylabel('True Positive Rate')\n",
    "ax[0].set_xlabel('False Positive Rate')\n",
    "ax[0].grid()\n",
    "\n",
    "# Precision-recall curve\n",
    "rec_SVC, pre_SVC, threshold = metrics.precision_recall_curve(y_true, preds_SVC)\n",
    "pr_rec_SVC = metrics.average_precision_score(y_true, preds_SVC, average='weighted')\n",
    "\n",
    "rec_NB, pre_NB, threshold = metrics.precision_recall_curve(y_true, preds_NB)\n",
    "pr_rec_NB = metrics.average_precision_score(y_true, preds_NB, average='weighted')\n",
    "\n",
    "\n",
    "ax[1].plot(rec_SVC, pre_SVC, 'r--', label='AUC SVC = %.5f' % pr_rec_SVC, linewidth=4)\n",
    "ax[1].plot(rec_NB, pre_NB, '-.y', label='AUC NB = %.5f' % pr_rec_NB, linewidth=4)\n",
    "ax[1].legend(loc = 'lower left')\n",
    "ax[1].set_title('Precision-recall curve', size=20)\n",
    "ax[1].set_ylabel('precision')\n",
    "ax[1].set_xlabel('recall')\n",
    "ax[1].set_xlim([-0.05, 1.05])\n",
    "ax[1].set_ylim([-0.05, 1.05])\n",
    "ax[1].set_xticks(np.arange(0, 1.01, 0.1))\n",
    "ax[1].set_yticks(np.arange(0, 1.01, 0.05))\n",
    "ax[1].grid()\n",
    "plt.tight_layout()\n",
    "plt.show()"
   ]
  },
  {
   "cell_type": "code",
   "execution_count": 16,
   "metadata": {
    "scrolled": false
   },
   "outputs": [
    {
     "data": {
      "image/png": "[encoded data removed]",
      "text/plain": [
       "<Figure size 864x432 with 4 Axes>"
      ]
     },
     "metadata": {
      "needs_background": "light"
     },
     "output_type": "display_data"
    }
   ],
   "source": [
    "# Построение матрицы ошибок\n",
    "conf_mat_m_NB = confusion_matrix(y_true=y_test, y_pred=NB_pred,\n",
    "                                 normalize='true')\n",
    "conf_mat_m_SVC = confusion_matrix(y_true=y_test, y_pred=SVC_pred,\n",
    "                                  normalize='true')\n",
    "\n",
    "# Строим HeatMap\n",
    "fig , ax = plt.subplots(1, 2, figsize=(12, 6), tight_layout=True)\n",
    "\n",
    "m = sns.heatmap(conf_mat_m_NB, annot=True, fmt='.2f', linewidths=.3,\n",
    "                annot_kws={\"size\": 14}, ax=ax[0],\n",
    "                square=True, robust=True, \n",
    "                cmap=sns.color_palette(\"YlGnBu\"), cbar_kws={'shrink': 0.7}\n",
    "                )\n",
    "g = sns.heatmap(conf_mat_m_SVC, annot=True, fmt='.2f', linewidths=.3,\n",
    "                annot_kws={\"size\": 14}, ax=ax[1],\n",
    "                square=True, robust=True, \n",
    "                cmap=sns.color_palette(\"YlGnBu\"), cbar_kws={'shrink': 0.7}\n",
    "                )\n",
    "m.set_title('NB', size=15)\n",
    "g.set_title('SVC', size=15)\n",
    "m.set_xticklabels(['OTHER', 'Ly6/uPAR']) #, rotation=45)\n",
    "m.set_yticklabels(['OTHER', 'Ly6/uPAR', ], rotation=360)\n",
    "g.set_xticklabels(['OTHER', 'Ly6/uPAR']) #, rotation=45)\n",
    "g.set_yticklabels(['OTHER', 'Ly6/uPAR',], rotation=360)\n",
    "\n",
    "plt.show()"
   ]
  },
  {
   "cell_type": "code",
   "execution_count": 17,
   "metadata": {
    "scrolled": false
   },
   "outputs": [
    {
     "name": "stdout",
     "output_type": "stream",
     "text": [
      "NB\n",
      "               precision    recall  f1-score   support\n",
      "\n",
      "    Ly6/uPAR       0.95      0.89      0.92        94\n",
      "       OTHER       0.97      0.99      0.98       352\n",
      "\n",
      "    accuracy                           0.97       446\n",
      "   macro avg       0.96      0.94      0.95       446\n",
      "weighted avg       0.97      0.97      0.97       446\n",
      " \n",
      "\n",
      "SVC\n",
      "               precision    recall  f1-score   support\n",
      "\n",
      "    Ly6/uPAR       0.98      0.91      0.95        94\n",
      "       OTHER       0.98      0.99      0.99       352\n",
      "\n",
      "    accuracy                           0.98       446\n",
      "   macro avg       0.98      0.95      0.97       446\n",
      "weighted avg       0.98      0.98      0.98       446\n",
      "\n"
     ]
    }
   ],
   "source": [
    "# Вывод метрик отчета классификации\n",
    "print('NB\\n', classification_report(y_test, NB_pred, labels=[1, 0], target_names=['Ly6/uPAR', 'OTHER']), '\\n')\n",
    "print('SVC\\n', classification_report(y_test, SVC_pred, labels=[1, 0], target_names=['Ly6/uPAR', 'OTHER']))\n"
   ]
  },
  {
   "cell_type": "code",
   "execution_count": 18,
   "metadata": {},
   "outputs": [
    {
     "name": "stdout",
     "output_type": "stream",
     "text": [
      "top 20 highest values NB               top 20 highest values SVC\n",
      "\n",
      "-10.281   'ALGG' \t\t\t 0.041124   'CNS'\n",
      "-10.281   'ALGGH' \t\t\t 0.042912   'TE'\n",
      "-10.281   'CYTC' \t\t\t 0.046675   'TT'\n",
      "-10.281   'LCNS' \t\t\t 0.048478   'KT'\n",
      "-10.281   'LGGH' \t\t\t 0.048542   'SP'\n",
      "-10.281   'LLLA' \t\t\t 0.053231   'SC'\n",
      "-10.212   'EQPSGE' \t\t\t 0.058532   'CL'\n",
      "-10.212   'QPSGE' \t\t\t 0.058591   'RC'\n",
      "-10.147   'DRCN' \t\t\t 0.058796   'NC'\n",
      "-10.147   'EQPSG' \t\t\t 0.061894   'KC'\n",
      "-10.147   'GEQPS' \t\t\t 0.062944   'CP'\n",
      "-10.147   'PSGE' \t\t\t 0.065333   'CV'\n",
      "-10.147   'QPSG' \t\t\t 0.066671   'TC'\n",
      "-10.087   'SGEQP' \t\t\t 0.066965   'GC'\n",
      "-10.03   'NLCN' \t\t\t 0.070007   'LCN'\n",
      "-9.9756   'EQPS' \t\t\t 0.072964   'LLL'\n",
      "-9.9243   'GEQP' \t\t\t 0.082103   'CY'\n",
      "-9.7845   'SGEQ' \t\t\t 0.098776   'LL'\n",
      "-9.6242   'LLLL' \t\t\t 0.11649   'CC'\n",
      "-9.4543   'DLCN' \t\t\t 0.15113   'CN'\n"
     ]
    },
    {
     "name": "stderr",
     "output_type": "stream",
     "text": [
      "/home/alexmakh/anaconda3/lib/python3.8/site-packages/sklearn/utils/deprecation.py:101: FutureWarning: Attribute coef_ was deprecated in version 0.24 and will be removed in 1.1 (renaming of 0.26).\n",
      "  warnings.warn(msg, category=FutureWarning)\n"
     ]
    }
   ],
   "source": [
    "# Feauture importance\n",
    "\n",
    "print(f'top 20 highest values NB{\" \"*15}top 20 highest values SVC\\n')\n",
    "top_NB = show_most_informative_features(NB_pipeline, 20)\n",
    "top_SVC = show_most_informative_features(SVC_pipeline, 20)\n",
    "\n",
    "for (coef_NB, fn_NB), (coef_SVC, fn_SVC) in zip(top_NB, top_SVC):\n",
    "    print (\"{:.5}   '{}' {} {:.5}   '{}'\".format(coef_NB,\n",
    "                                 fn_NB.upper(),\n",
    "                                 3*'\\t',\n",
    "                                 coef_SVC,\n",
    "                                 fn_SVC.upper()))\n"
   ]
  },
  {
   "cell_type": "markdown",
   "metadata": {},
   "source": [
    "### Кросс-валидация"
   ]
  },
  {
   "cell_type": "code",
   "execution_count": 19,
   "metadata": {},
   "outputs": [
    {
     "name": "stdout",
     "output_type": "stream",
     "text": [
      "NB: train f1 0.883 (0.107) / test = 0.969\n",
      "SVC: train f1 0.918 (0.088) / test = 0.978\n"
     ]
    }
   ],
   "source": [
    "models = [('NB', NB_pipeline), ('SVC', SVC_pipeline)]\n",
    "num_folds = 20\n",
    "results_pr, results_f1, results_rec, results_roc = [], [], [], []\n",
    "for name, model in models:\n",
    "    kfold = KFold(n_splits=num_folds, random_state=1, shuffle=True)\n",
    "    \n",
    "    cv_results_pr = cross_val_score(model, X_train, y_train, cv=kfold, scoring='precision')\n",
    "    results_pr.append(cv_results_pr)\n",
    "    \n",
    "    cv_results_f1 = cross_val_score(model, X_train, y_train, cv=kfold, scoring='f1')\n",
    "    results_f1.append(cv_results_f1)\n",
    "\n",
    "    cv_results_rec = cross_val_score(model, X_train, y_train, cv=kfold, scoring='recall')\n",
    "    results_f1.append(cv_results_rec)\n",
    "\n",
    "    cv_results_roc = cross_val_score(model, X_train, y_train, cv=kfold, scoring='roc_auc')\n",
    "    results_f1.append(cv_results_roc)\n",
    "    \n",
    "    m_fit = model.fit(X_train, y_train)\n",
    "    m_predict = model.predict(X_test)\n",
    "\n",
    "    m_score = model.score(X_test, y_test)\n",
    "\n",
    "    msg = \"%s: train f1 %.3f (%.3f) / test = %.3f\" % (name, cv_results_f1.mean(), cv_results_f1.std(), m_score)\n",
    "    print(msg)"
   ]
  },
  {
   "cell_type": "code",
   "execution_count": 20,
   "metadata": {},
   "outputs": [],
   "source": [
    "cross_res = results_f1 + results_pr + results_rec + results_roc\n",
    "labels = ['NB f1', 'SVC f1',\n",
    "          'NB prec', 'SVC prec',\n",
    "          'NB recall', 'SVC recall',\n",
    "          'NB roc auc', 'SVC roc auc',]"
   ]
  },
  {
   "cell_type": "code",
   "execution_count": 21,
   "metadata": {},
   "outputs": [
    {
     "data": {
      "image/png": "[encoded data removed]",
      "text/plain": [
       "<Figure size 720x360 with 1 Axes>"
      ]
     },
     "metadata": {
      "needs_background": "light"
     },
     "output_type": "display_data"
    }
   ],
   "source": [
    "df = pd.DataFrame({i: j for i, j in zip(labels, cross_res)})\n",
    "df = df.melt(var_name='metric', value_name='cross val values')\n",
    "\n",
    "plt.figure(figsize=(10, 5))\n",
    "sns.boxplot(data=df, y='cross val values', x='metric', saturation=1)\n",
    "plt.tight_layout()\n",
    "plt.show()"
   ]
  },
  {
   "cell_type": "raw",
   "metadata": {},
   "source": [
    "### 5) Получение предсказаний"
   ]
  },
  {
   "cell_type": "raw",
   "metadata": {},
   "source": [
    "# Обучаем финальную модель по всему датасету\n",
    "SVC_pipeline.fit(data['sequence'], data['classification'])"
   ]
  },
  {
   "cell_type": "raw",
   "metadata": {},
   "source": [
    "# Предсказания после обработки функцией нахождения \"LU-домена\"\n",
    "df_apl['ly6'] = df_apl.sequence.apply(find_pattern)\n",
    "df_apl_pred = df_apl[df_apl['ly6'] == 1].copy()\n",
    "\n",
    "pr = NB_pipeline.predict(df_apl_pred.sequence)\n",
    "df_apl_pred['classification'] = pr\n",
    "\n",
    "df_apl_pred = df_apl_pred[df_apl_pred['classification'] == 'Ly6/uPAR'].drop(['classification', 'ly6'], axis=1)\n",
    "df_apl_pred.set_index('genes', inplace=True)\n",
    "apl_pattern = set(df_apl_pred.index.tolist())\n",
    "# df_apl_pred.to_excel('results/apl_full_predict_1.xlsx')\n",
    "# df_apl_pred.to_csv('results/apl_full_predict_1.csv')\n",
    "df_apl_pred.shape"
   ]
  },
  {
   "cell_type": "raw",
   "metadata": {},
   "source": [
    "# Предсказания после обработки функцией нахождения \"LU-домена\"\n",
    "df_aru['ly6'] = df_aru.sequence.apply(find_pattern)\n",
    "df_aru_pred = df_aru[df_aru['ly6'] == 1].copy()\n",
    "\n",
    "pr = NB_pipeline.predict(df_aru_pred.sequence)\n",
    "df_aru_pred['classification'] = pr\n",
    "\n",
    "df_aru_pred = df_aru_pred[df_aru_pred['classification'] == 'Ly6/uPAR'].drop(['classification', 'ly6'], axis=1)\n",
    "df_aru_pred.set_index('genes', inplace=True)\n",
    "aru_pattern = set(df_aru_pred.index.tolist())\n",
    "# df_aru_pred.to_excel('results/aru_full_predict_1.xlsx')\n",
    "# df_aru_pred.to_csv('results/aru_full_predict_1.csv')\n",
    "df_aru_pred.shape"
   ]
  },
  {
   "cell_type": "raw",
   "metadata": {},
   "source": [
    "df_apl_ = pd.read_excel('results/apl_full_predict_1.xlsx', index_col=0)\n",
    "tmp_apl = apl_pattern.intersection(set(df_apl_.index.tolist()))\n",
    "print('Совпадений с прошлой моделью', len(tmp_apl))"
   ]
  },
  {
   "cell_type": "raw",
   "metadata": {},
   "source": [
    "df_apl_ = pd.read_excel('results/apl_full_predict.xlsx', index_col=0)\n",
    "print('Совпадений с прошлыми моделями', len(tmp_apl.intersection(set(df_apl_.index.tolist()))))"
   ]
  },
  {
   "cell_type": "raw",
   "metadata": {},
   "source": [
    "df_aru_ = pd.read_excel('results/aru_full_predict_1.xlsx', index_col=0)\n",
    "tmp_aru = aru_pattern.intersection(set(df_aru_.index.tolist()))\n",
    "print('Совпадений с прошлой моделью', len(tmp_aru))"
   ]
  },
  {
   "cell_type": "raw",
   "metadata": {},
   "source": [
    "df_aru_ = pd.read_excel('results/aru_full_predict.xlsx', index_col=0)\n",
    "print('Совпадений с прошлыми моделями', len(tmp_aru.intersection(set(df_aru_.index.tolist()))))"
   ]
  },
  {
   "cell_type": "raw",
   "metadata": {},
   "source": [
    "print('Количество потенциальных белков, относящихся к семейству Ly6/uPAR, равно:', len(apl_pattern))"
   ]
  },
  {
   "cell_type": "raw",
   "metadata": {},
   "source": [
    "print('Количество потенциальных белков, относящихся к семейству Ly6/uPAR, равно:', len(aru_pattern))"
   ]
  },
  {
   "cell_type": "raw",
   "metadata": {},
   "source": [
    "### 6) blast предсказаний модели"
   ]
  },
  {
   "cell_type": "raw",
   "metadata": {
    "scrolled": true
   },
   "source": [
    "%%bash -s 'ly6upar_lab.fasta'\n",
    "cd 'blast/blastdb'\n",
    "makeblastdb -in \"$1\" -dbtype prot"
   ]
  },
  {
   "cell_type": "raw",
   "metadata": {
    "scrolled": false
   },
   "source": [
    "%%bash -s 'blastdb/ly6upar_lab.fasta' 'aplanci_blast_1.txt' 'arubens_blast_1.txt'\n",
    "cd 'blast'\n",
    "blastp -db \"$1\" -query \"apl_full_predict_1.fasta\" -outfmt 6 -evalue 1e-5 -num_threads 6 -out \"$2\"\n",
    "blastp -db \"$1\" -query \"aru_full_predict_1.fasta\" -outfmt 6 -evalue 1e-5 -num_threads 6 -out \"$3\"\n",
    "ls"
   ]
  },
  {
   "cell_type": "raw",
   "metadata": {
    "scrolled": true
   },
   "source": [
    "df_aru_bl = pd.DataFrame(pd.read_csv('blast/arubens_blast_1.txt', sep='\\t', header=None, index_col=0))\n",
    "df_apl_bl = pd.DataFrame(pd.read_csv('blast/aplanci_blast_1.txt', sep='\\t', header=None, index_col=0))\n",
    "df_aru_bl.drop_duplicates().shape"
   ]
  },
  {
   "cell_type": "raw",
   "metadata": {
    "scrolled": true
   },
   "source": [
    "df_apl_bl.drop_duplicates().shape"
   ]
  },
  {
   "cell_type": "raw",
   "metadata": {
    "scrolled": false
   },
   "source": [
    "df_aru_res = df_aru_bl[[1, 10]].join(df_aru_pred[['sequence', 'gene_len']]).dropna()\n",
    "df_apl_res = df_apl_bl[[1, 10]].join(df_apl_pred[['sequence', 'gene_len']]).dropna()\n",
    "cols = ['blast_hit', 'e-value', 'sequence', 'gene_len']\n",
    "df_aru_res.columns = cols\n",
    "df_apl_res.columns = cols\n",
    "# df_aru_res.to_csv('results/aru_model_blast_1.tsv', sep='\\t')\n",
    "# df_apl_res.to_csv('results/apl_model_blast_1.tsv', sep='\\t')\n",
    "\n",
    "# df_aru_res.drop_duplicates('sequence').to_excel('results/aru_model_blast_1.xlsx')\n",
    "# df_apl_res.drop_duplicates('sequence').to_excel('results/apl_model_blast_1.xlsx')\n",
    "\n",
    "# df_aru_res.to_excel('results/aru_model_blast_full_1.xlsx')\n",
    "# df_apl_res.to_excel('results/apl_model_blast_full_1.xlsx')\n",
    "df_aru_res = df_aru_res.drop_duplicates('sequence')\n",
    "df_apl_res = df_apl_res.drop_duplicates('sequence')\n",
    "print(df_aru_res.shape)\n",
    "df_aru_res"
   ]
  },
  {
   "cell_type": "raw",
   "metadata": {
    "scrolled": false
   },
   "source": [
    "print(df_apl_res.shape)\n",
    "df_apl_res"
   ]
  },
  {
   "cell_type": "raw",
   "metadata": {
    "scrolled": true
   },
   "source": [
    "df_aru_res.shape, df_apl_res.shape"
   ]
  },
  {
   "cell_type": "raw",
   "metadata": {},
   "source": [
    "### Сравнение результатов с Мышкиным"
   ]
  },
  {
   "cell_type": "raw",
   "metadata": {},
   "source": [
    "### A. rubens"
   ]
  },
  {
   "cell_type": "raw",
   "metadata": {
    "scrolled": true
   },
   "source": [
    "# Импорт результатов по анализу Мышкина\n",
    "df_mich_aru = pd.DataFrame(pd.read_csv('input/arubens_comb.csv', index_col=0))\n",
    "df_mich_aru.set_index('Prot_id', inplace=True)\n",
    "print('Количество белков, найденных Михаилом (blast + hmmer) для A. rubens', df_mich_aru.shape[0])"
   ]
  },
  {
   "cell_type": "raw",
   "metadata": {
    "scrolled": true
   },
   "source": [
    "cat, con = np.unique(df_mich_aru.Pfam.tolist(), return_counts=True)\n",
    "print('Названия и количество найденных белков из определенных protein family:')\n",
    "for i, j in enumerate(cat):\n",
    "    print(j, ':', con[i])"
   ]
  },
  {
   "cell_type": "raw",
   "metadata": {
    "scrolled": false
   },
   "source": [
    "# Пересеение с данными, полученными Михаилом\n",
    "res_aru = df_mich_aru.loc[df_mich_aru.index.intersection(aru_pattern)]\n",
    "res_aru"
   ]
  },
  {
   "cell_type": "raw",
   "metadata": {},
   "source": [
    "### A. planci"
   ]
  },
  {
   "cell_type": "raw",
   "metadata": {
    "scrolled": true
   },
   "source": [
    "# Импорт результатов по анализу Мышкина\n",
    "df_mich_apl = pd.DataFrame(pd.read_csv('input/aplanci_comb.csv', index_col=0))\n",
    "df_mich_apl.set_index('Prot_id', inplace=True)\n",
    "print('Количество белков, найденных Михаилом (blast + hmmer) для A. planci', df_mich_apl.shape[0])"
   ]
  },
  {
   "cell_type": "raw",
   "metadata": {
    "scrolled": true
   },
   "source": [
    "cat, con = np.unique(df_mich_apl.Pfam.tolist(), return_counts=True)\n",
    "print('Названия и количество найденных белков из определенных protein family:')\n",
    "for i, j in enumerate(cat):\n",
    "    print(j, ':', con[i])"
   ]
  },
  {
   "cell_type": "raw",
   "metadata": {
    "scrolled": false
   },
   "source": [
    "# Пересеение с данными, полученными Михаилом\n",
    "res_apl = df_mich_apl.loc[df_mich_apl.index.intersection(apl_pattern)]\n",
    "res_apl"
   ]
  },
  {
   "cell_type": "raw",
   "metadata": {
    "scrolled": true
   },
   "source": [
    "print(\"Количество совпадений равно\", res_aru.shape[0])"
   ]
  },
  {
   "cell_type": "raw",
   "metadata": {
    "scrolled": true
   },
   "source": [
    "# Сохранение результатов пересечения\n",
    "# res_apl.to_csv('results/apl_combined_result.tsv', sep='\\t')\n",
    "# res_aru.to_csv('results/aru_combined_result.tsv', sep='\\t')\n",
    "\n",
    "# res_apl.to_excel('results/apl_combined_result.xlsx')\n",
    "# res_aru.to_excel('results/aru_combined_result.xlsx')"
   ]
  },
  {
   "cell_type": "raw",
   "metadata": {},
   "source": [
    "### Выделение LU-домена в найденных белках"
   ]
  },
  {
   "cell_type": "raw",
   "metadata": {},
   "source": [
    "# Подчеркивание LU-домена под последовательностью\n",
    "# with open('aplanci_highlight_lu.txt', 'w+') as f:\n",
    "#     for i, j in zip(df_apl_res.sequence, df_apl_res.index):\n",
    "#         f.write(find_LU(n=j, x=i))\n",
    "# with open('arubens_highlight_lu.txt', 'w+') as f:\n",
    "#     for i, j in zip(df_aru_res.sequence, df_aru_res.index):\n",
    "#         f.write(find_LU(n=j, x=i))"
   ]
  },
  {
   "cell_type": "raw",
   "metadata": {},
   "source": [
    "# df = pd.concat([X_test, y_test], axis=1)\n",
    "# start = df.shape[0]\n",
    "# df = df.drop(df[df.classification == 'Ly6/uPAR'].index, axis=0)\n",
    "# print(start, df.shape[0])\n",
    "# tmp = model_f[model_f.classification == 'HYDROLASE'].iloc[-116:-1].copy()\n",
    "# tmp.classification = 'Ly6/uPAR'\n",
    "# df = pd.concat([tmp, df], axis=0)\n",
    "# X_test = df.sequence\n",
    "# y_test = df.classification\n",
    "# df"
   ]
  }
 ],
 "metadata": {
  "kernelspec": {
   "display_name": "Python 3",
   "language": "python",
   "name": "python3"
  },
  "language_info": {
   "codemirror_mode": {
    "name": "ipython",
    "version": 3
   },
   "file_extension": ".py",
   "mimetype": "text/x-python",
   "name": "python",
   "nbconvert_exporter": "python",
   "pygments_lexer": "ipython3",
   "version": "3.8.5"
  }
 },
 "nbformat": 4,
 "nbformat_minor": 1
}
